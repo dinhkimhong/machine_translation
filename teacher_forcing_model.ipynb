{
 "cells": [
  {
   "cell_type": "markdown",
   "metadata": {},
   "source": [
    "### MACHINE TRANSLATION MODEL WITH TEACHER FORCING"
   ]
  },
  {
   "cell_type": "markdown",
   "metadata": {},
   "source": [
    "Here is the work pipeline:\n",
    "1. Read data from txt files and split into train and test dataframe.\n",
    "2. Tokenize sentences and transform to one hot encode sequence data.\n",
    "3. Build model using teacher forcing then get the weights.\n",
    "4. Build encoder and decoder, set weights of each layer from the weights in teacher-forcing model.\n",
    "5. Test some sentences."
   ]
  },
  {
   "cell_type": "code",
   "execution_count": 1,
   "metadata": {},
   "outputs": [],
   "source": [
    "#import packages\n",
    "import pandas as pd\n",
    "import numpy as np\n",
    "import matplotlib.pyplot as plt\n",
    "import warnings\n",
    "warnings.filterwarnings('ignore')\n",
    "\n",
    "plt.rcParams['figure.figsize'] = (10.0, 5.0)\n",
    "%matplotlib inline"
   ]
  },
  {
   "cell_type": "markdown",
   "metadata": {},
   "source": [
    "### 1. Read data from txt file"
   ]
  },
  {
   "cell_type": "code",
   "execution_count": 2,
   "metadata": {},
   "outputs": [
    {
     "data": {
      "text/html": [
       "<div>\n",
       "<style scoped>\n",
       "    .dataframe tbody tr th:only-of-type {\n",
       "        vertical-align: middle;\n",
       "    }\n",
       "\n",
       "    .dataframe tbody tr th {\n",
       "        vertical-align: top;\n",
       "    }\n",
       "\n",
       "    .dataframe thead th {\n",
       "        text-align: right;\n",
       "    }\n",
       "</style>\n",
       "<table border=\"1\" class=\"dataframe\">\n",
       "  <thead>\n",
       "    <tr style=\"text-align: right;\">\n",
       "      <th></th>\n",
       "      <th>english_sentence</th>\n",
       "      <th>french_sentence</th>\n",
       "      <th>french_sentence_se</th>\n",
       "    </tr>\n",
       "  </thead>\n",
       "  <tbody>\n",
       "    <tr>\n",
       "      <th>0</th>\n",
       "      <td>new jersey is sometimes quiet during autumn , ...</td>\n",
       "      <td>new jersey est parfois calme pendant l' automn...</td>\n",
       "      <td>sos new jersey est parfois calme pendant l' au...</td>\n",
       "    </tr>\n",
       "    <tr>\n",
       "      <th>1</th>\n",
       "      <td>the united states is usually chilly during jul...</td>\n",
       "      <td>les états-unis est généralement froid en juill...</td>\n",
       "      <td>sos les états-unis est généralement froid en j...</td>\n",
       "    </tr>\n",
       "    <tr>\n",
       "      <th>2</th>\n",
       "      <td>california is usually quiet during march , and...</td>\n",
       "      <td>california est généralement calme en mars , et...</td>\n",
       "      <td>sos california est généralement calme en mars ...</td>\n",
       "    </tr>\n",
       "    <tr>\n",
       "      <th>3</th>\n",
       "      <td>the united states is sometimes mild during jun...</td>\n",
       "      <td>les états-unis est parfois légère en juin , et...</td>\n",
       "      <td>sos les états-unis est parfois légère en juin ...</td>\n",
       "    </tr>\n",
       "    <tr>\n",
       "      <th>4</th>\n",
       "      <td>your least liked fruit is the grape , but my l...</td>\n",
       "      <td>votre moins aimé fruit est le raisin , mais mo...</td>\n",
       "      <td>sos votre moins aimé fruit est le raisin , mai...</td>\n",
       "    </tr>\n",
       "  </tbody>\n",
       "</table>\n",
       "</div>"
      ],
      "text/plain": [
       "                                    english_sentence  \\\n",
       "0  new jersey is sometimes quiet during autumn , ...   \n",
       "1  the united states is usually chilly during jul...   \n",
       "2  california is usually quiet during march , and...   \n",
       "3  the united states is sometimes mild during jun...   \n",
       "4  your least liked fruit is the grape , but my l...   \n",
       "\n",
       "                                     french_sentence  \\\n",
       "0  new jersey est parfois calme pendant l' automn...   \n",
       "1  les états-unis est généralement froid en juill...   \n",
       "2  california est généralement calme en mars , et...   \n",
       "3  les états-unis est parfois légère en juin , et...   \n",
       "4  votre moins aimé fruit est le raisin , mais mo...   \n",
       "\n",
       "                                  french_sentence_se  \n",
       "0  sos new jersey est parfois calme pendant l' au...  \n",
       "1  sos les états-unis est généralement froid en j...  \n",
       "2  sos california est généralement calme en mars ...  \n",
       "3  sos les états-unis est parfois légère en juin ...  \n",
       "4  sos votre moins aimé fruit est le raisin , mai...  "
      ]
     },
     "execution_count": 2,
     "metadata": {},
     "output_type": "execute_result"
    }
   ],
   "source": [
    "en_sents = list()\n",
    "with open('vocab_en.txt', encoding='utf-8') as txt_file:\n",
    "    for line in txt_file:\n",
    "        new_line = line.rstrip('\\n')\n",
    "        en_sents.append(new_line)\n",
    "\n",
    "fr_sents = list()\n",
    "fr_sents_se = list()\n",
    "with open('vocab_fr.txt', encoding='utf-8') as txt_file:\n",
    "    for line in txt_file.readlines():\n",
    "        new_line = line.rstrip('\\n')\n",
    "        fr_sents.append(new_line)\n",
    "        \n",
    "        new_line_se = 'sos ' + new_line + ' eos'\n",
    "        fr_sents_se.append(new_line_se)\n",
    "        \n",
    "df = pd.DataFrame({'english_sentence':en_sents, 'french_sentence': fr_sents, 'french_sentence_se': fr_sents_se})\n",
    "df.head()"
   ]
  },
  {
   "cell_type": "code",
   "execution_count": 3,
   "metadata": {},
   "outputs": [
    {
     "name": "stdout",
     "output_type": "stream",
     "text": [
      "<class 'pandas.core.frame.DataFrame'>\n",
      "RangeIndex: 137860 entries, 0 to 137859\n",
      "Data columns (total 3 columns):\n",
      " #   Column              Non-Null Count   Dtype \n",
      "---  ------              --------------   ----- \n",
      " 0   english_sentence    137860 non-null  object\n",
      " 1   french_sentence     137860 non-null  object\n",
      " 2   french_sentence_se  137860 non-null  object\n",
      "dtypes: object(3)\n",
      "memory usage: 3.2+ MB\n"
     ]
    }
   ],
   "source": [
    "df.info()"
   ]
  },
  {
   "cell_type": "code",
   "execution_count": 4,
   "metadata": {},
   "outputs": [
    {
     "data": {
      "text/plain": [
       "array([18689, 23969,  3278, ..., 43601, 66002, 37131], dtype=int64)"
      ]
     },
     "execution_count": 4,
     "metadata": {},
     "output_type": "execute_result"
    }
   ],
   "source": [
    "#shuffle indicies to shuffle the rows\n",
    "indicies = np.array(df.index)\n",
    "np.random.shuffle(indicies)\n",
    "indicies"
   ]
  },
  {
   "cell_type": "markdown",
   "metadata": {},
   "source": [
    "#### Split data into train and test dataframe after shuffling row"
   ]
  },
  {
   "cell_type": "code",
   "execution_count": 5,
   "metadata": {},
   "outputs": [],
   "source": [
    "train_size, test_size = int((137860/10) * 8), int((137860/10) * 2)\n",
    "\n",
    "train_indicies, test_indicies = indicies[:train_size], indicies[train_size:]\n",
    "\n",
    "train_df = df.iloc[train_indicies, :]\n",
    "test_df = df.iloc[test_indicies, :]"
   ]
  },
  {
   "cell_type": "code",
   "execution_count": 8,
   "metadata": {},
   "outputs": [],
   "source": [
    "import tensorflow as tf\n",
    "from tensorflow.python.keras.preprocessing.text import Tokenizer\n",
    "from tensorflow.python.keras.models import Model\n",
    "from tensorflow.python.keras.layers import Conv1D, Dense, Flatten, Input, MaxPooling1D, GRU, RepeatVector, \\\n",
    "                        Dropout, BatchNormalization, TimeDistributed, LSTM, Dropout\n",
    "from tensorflow.python.keras.layers.merge import concatenate\n",
    "from tensorflow.python.keras.callbacks import EarlyStopping\n",
    "from tensorflow.python.keras.utils.np_utils import to_categorical\n",
    "from tensorflow.python.keras.utils.vis_utils import plot_model\n",
    "from tensorflow.python.keras.preprocessing.sequence import pad_sequences"
   ]
  },
  {
   "cell_type": "markdown",
   "metadata": {},
   "source": [
    "### 2. Tokenize sentences then transform to one hot encode sequence data"
   ]
  },
  {
   "cell_type": "code",
   "execution_count": 11,
   "metadata": {},
   "outputs": [],
   "source": [
    "en_token = Tokenizer(oov_token='unknown')\n",
    "en_token.fit_on_texts(train_df['english_sentence'])\n",
    "\n",
    "fr_se_token = Tokenizer(oov_token='unknown')\n",
    "fr_se_token.fit_on_texts(train_df['french_sentence_se'])"
   ]
  },
  {
   "cell_type": "code",
   "execution_count": 12,
   "metadata": {},
   "outputs": [],
   "source": [
    "en_index_to_word = en_token.index_word\n",
    "fr_se_index_to_word = fr_se_token.index_word\n",
    "\n",
    "en_word_to_index = en_token.word_index\n",
    "fr_se_word_to_index = fr_se_token.word_index"
   ]
  },
  {
   "cell_type": "code",
   "execution_count": 13,
   "metadata": {},
   "outputs": [
    {
     "name": "stdout",
     "output_type": "stream",
     "text": [
      "15 23\n"
     ]
    }
   ],
   "source": [
    "max_en_len = max([len(i) for i in en_token.texts_to_sequences(train_df['english_sentence'])])\n",
    "max_fr_se_len = max([len(i) for i in fr_se_token.texts_to_sequences(train_df['french_sentence_se'])])\n",
    "print(max_en_len, max_fr_se_len)"
   ]
  },
  {
   "cell_type": "code",
   "execution_count": 15,
   "metadata": {},
   "outputs": [
    {
     "name": "stdout",
     "output_type": "stream",
     "text": [
      "201 345\n"
     ]
    }
   ],
   "source": [
    "en_vocab = len(en_token.index_word) + 1\n",
    "fr_se_vocab = len(fr_se_token.index_word) + 1\n",
    "print(en_vocab, fr_se_vocab)"
   ]
  },
  {
   "cell_type": "code",
   "execution_count": 16,
   "metadata": {},
   "outputs": [
    {
     "name": "stdout",
     "output_type": "stream",
     "text": [
      "(201, 201) (345, 345)\n"
     ]
    }
   ],
   "source": [
    "en_oh = to_categorical(np.arange(0,en_vocab))\n",
    "fr_se_oh = to_categorical(np.arange(0, fr_se_vocab))\n",
    "print(en_oh.shape, fr_se_oh.shape)"
   ]
  },
  {
   "cell_type": "code",
   "execution_count": 17,
   "metadata": {},
   "outputs": [],
   "source": [
    "#function word to oh\n",
    "def word2oh(word, language='en', se=False):\n",
    "    oh = ''\n",
    "    if language == 'en':\n",
    "        index = en_word_to_index[word]\n",
    "        oh = en_oh[index]\n",
    "    elif language =='fr' and se == True:\n",
    "        index = fr_se_word_to_index[word]\n",
    "        oh = fr_se_oh[index]        \n",
    "    return oh"
   ]
  },
  {
   "cell_type": "code",
   "execution_count": 25,
   "metadata": {},
   "outputs": [],
   "source": [
    "#function oh to word\n",
    "def oh2word(ohs, language='en', se=False):\n",
    "    index = np.argmax(ohs[0])\n",
    "    if index == 0: \n",
    "        word = 'unknown'\n",
    "    else:\n",
    "        if language=='en':\n",
    "            word = en_index_to_word[index]\n",
    "        elif language =='fr' and se == True:\n",
    "            word = fr_se_index_to_word[index]\n",
    "    return word"
   ]
  },
  {
   "cell_type": "code",
   "execution_count": 18,
   "metadata": {},
   "outputs": [],
   "source": [
    "#function sentence to oh\n",
    "def sent2oh(sentence, language='en', se=False, reverse=False):\n",
    "    oh = list()\n",
    "    if language=='en':\n",
    "        sequence = en_token.texts_to_sequences([sentence])\n",
    "        sequence = pad_sequences(sequence, padding='post', maxlen=max_en_len) #add padding\n",
    "        if reverse == True:\n",
    "            sequence = sequence[:, ::-1]\n",
    "        for seq in sequence:\n",
    "            oh.append(en_oh[seq])\n",
    "    elif language == 'fr' and se == True:\n",
    "        sequence = fr_se_token.texts_to_sequences([sentence])\n",
    "        sequence = pad_sequences(sequence, padding='post', maxlen=max_fr_se_len)\n",
    "        if reverse == True:\n",
    "            sequence = sequence[:, ::-1]\n",
    "        for seq in sequence:\n",
    "            oh.append(fr_se_oh[seq])       \n",
    "    return np.array(oh)"
   ]
  },
  {
   "cell_type": "code",
   "execution_count": 19,
   "metadata": {},
   "outputs": [
    {
     "name": "stdout",
     "output_type": "stream",
     "text": [
      "(110288, 15, 201) (110288, 23, 345)\n"
     ]
    }
   ],
   "source": [
    "train_en_oh_rev = np.vstack([(sent2oh(sent, reverse=True)) for sent in train_df['english_sentence']])\n",
    "train_fr_se_oh = np.vstack([(sent2oh(sent, language='fr', se=True)) for sent in train_df['french_sentence_se']])\n",
    "\n",
    "print(train_en_oh_rev.shape, train_fr_se_oh.shape)"
   ]
  },
  {
   "cell_type": "code",
   "execution_count": 20,
   "metadata": {},
   "outputs": [
    {
     "name": "stdout",
     "output_type": "stream",
     "text": [
      "(27572, 15, 201) (27572, 23, 345)\n"
     ]
    }
   ],
   "source": [
    "test_en_oh_rev = np.vstack([(sent2oh(sent, reverse=True)) for sent in test_df['english_sentence']])\n",
    "test_fr_se_oh = np.vstack([(sent2oh(sent, language='fr', se=True)) for sent in test_df['french_sentence_se']])\n",
    "\n",
    "print(test_en_oh_rev.shape, test_fr_se_oh.shape)"
   ]
  },
  {
   "cell_type": "markdown",
   "metadata": {},
   "source": [
    "### 3. Build model using teacher forcing then get the weights"
   ]
  },
  {
   "cell_type": "code",
   "execution_count": 21,
   "metadata": {},
   "outputs": [
    {
     "name": "stdout",
     "output_type": "stream",
     "text": [
      "WARNING:tensorflow:From C:\\Users\\kimho\\anaconda3\\envs\\deeplearning\\lib\\site-packages\\tensorflow_core\\python\\ops\\resource_variable_ops.py:1635: calling BaseResourceVariable.__init__ (from tensorflow.python.ops.resource_variable_ops) with constraint is deprecated and will be removed in a future version.\n",
      "Instructions for updating:\n",
      "If using Keras pass *_constraint arguments to layers.\n",
      "Model: \"model\"\n",
      "__________________________________________________________________________________________________\n",
      "Layer (type)                    Output Shape         Param #     Connected to                     \n",
      "==================================================================================================\n",
      "input_1 (InputLayer)            [(None, 15, 201)]    0                                            \n",
      "__________________________________________________________________________________________________\n",
      "input_2 (InputLayer)            [(None, 22, 345)]    0                                            \n",
      "__________________________________________________________________________________________________\n",
      "gru (GRU)                       [(None, 201), (None, 243009      input_1[0][0]                    \n",
      "__________________________________________________________________________________________________\n",
      "gru_1 (GRU)                     (None, 22, 201)      329841      input_2[0][0]                    \n",
      "                                                                 gru[0][1]                        \n",
      "__________________________________________________________________________________________________\n",
      "time_distributed (TimeDistribut (None, 22, 345)      69690       gru_1[0][0]                      \n",
      "==================================================================================================\n",
      "Total params: 642,540\n",
      "Trainable params: 642,540\n",
      "Non-trainable params: 0\n",
      "__________________________________________________________________________________________________\n"
     ]
    },
    {
     "data": {
      "image/png": "[encoded data removed]",
      "text/plain": [
       "<IPython.core.display.Image object>"
      ]
     },
     "execution_count": 21,
     "metadata": {},
     "output_type": "execute_result"
    }
   ],
   "source": [
    "hsize = en_vocab\n",
    "#encoder\n",
    "en_input = Input(shape=(max_en_len, en_vocab))\n",
    "en_gru = GRU(en_vocab, return_state=True)\n",
    "en_out, en_state = en_gru(en_input)\n",
    "\n",
    "#decoder\n",
    "de_input = Input(shape=(max_fr_se_len-1, fr_se_vocab))\n",
    "de_gru = GRU(en_vocab, return_sequences=True)\n",
    "de_out = de_gru(de_input, initial_state=en_state)\n",
    "\n",
    "#prediction layer\n",
    "de_dense = Dense(fr_se_vocab, activation='softmax')\n",
    "de_dense_time = TimeDistributed(de_dense)\n",
    "de_pred = de_dense_time(de_out)\n",
    "\n",
    "#compiling the model\n",
    "nmt = Model(inputs=[en_input, de_input], outputs=de_pred)\n",
    "\n",
    "#summarize model\n",
    "nmt.summary()\n",
    "\n",
    "#plot graph\n",
    "plot_model(nmt, to_file='layout.png')"
   ]
  },
  {
   "cell_type": "code",
   "execution_count": 22,
   "metadata": {},
   "outputs": [
    {
     "data": {
      "text/plain": [
       "(110288, 22, 345)"
      ]
     },
     "execution_count": 22,
     "metadata": {},
     "output_type": "execute_result"
    }
   ],
   "source": [
    "train_fr_se_oh_x = train_fr_se_oh[:,:-1,:] #don't get last word 'eos'\n",
    "train_fr_se_oh_y = train_fr_se_oh[:,1:,:] #don't get first word 'sos'\n",
    "train_fr_se_oh_x.shape"
   ]
  },
  {
   "cell_type": "code",
   "execution_count": 23,
   "metadata": {},
   "outputs": [
    {
     "name": "stdout",
     "output_type": "stream",
     "text": [
      "Train on 88230 samples, validate on 22058 samples\n",
      "Epoch 1/10\n",
      "88230/88230 [==============================] - 379s 4ms/sample - loss: 0.6741 - acc: 0.8120 - val_loss: 0.2741 - val_acc: 0.9088\n",
      "Epoch 2/10\n",
      "88230/88230 [==============================] - 382s 4ms/sample - loss: 0.1527 - acc: 0.9514 - val_loss: 0.0696 - val_acc: 0.9817\n",
      "Epoch 3/10\n",
      "88230/88230 [==============================] - 383s 4ms/sample - loss: 0.0516 - acc: 0.9852 - val_loss: 0.0378 - val_acc: 0.9888\n",
      "Epoch 4/10\n",
      "88230/88230 [==============================] - 390s 4ms/sample - loss: 0.0348 - acc: 0.9893 - val_loss: 0.0372 - val_acc: 0.9885\n",
      "Epoch 5/10\n",
      "88230/88230 [==============================] - 380s 4ms/sample - loss: 0.0273 - acc: 0.9913 - val_loss: 0.0239 - val_acc: 0.9926\n",
      "Epoch 6/10\n",
      "88230/88230 [==============================] - 352s 4ms/sample - loss: 0.0221 - acc: 0.9929 - val_loss: 0.0239 - val_acc: 0.9923\n",
      "Epoch 7/10\n",
      "88230/88230 [==============================] - 354s 4ms/sample - loss: 0.0187 - acc: 0.9940 - val_loss: 0.0212 - val_acc: 0.9932\n",
      "Epoch 8/10\n",
      "88230/88230 [==============================] - 355s 4ms/sample - loss: 0.0168 - acc: 0.9947 - val_loss: 0.0391 - val_acc: 0.9870\n",
      "Epoch 9/10\n",
      "88230/88230 [==============================] - 363s 4ms/sample - loss: 0.0142 - acc: 0.9955 - val_loss: 0.0167 - val_acc: 0.9950\n",
      "Epoch 10/10\n",
      "88230/88230 [==============================] - 357s 4ms/sample - loss: 0.0136 - acc: 0.9957 - val_loss: 0.0171 - val_acc: 0.9949\n"
     ]
    },
    {
     "data": {
      "text/plain": [
       "<tensorflow.python.keras.callbacks.History at 0x1e16808bd30>"
      ]
     },
     "execution_count": 23,
     "metadata": {},
     "output_type": "execute_result"
    }
   ],
   "source": [
    "nmt.compile(optimizer='adam', loss='categorical_crossentropy', metrics=['acc'])\n",
    "early_stopping = EarlyStopping(monitor='val_acc', patience=5)\n",
    "nmt.fit([train_en_oh_rev, train_fr_se_oh_x], train_fr_se_oh_y, epochs=10, validation_split=0.2, callbacks=[early_stopping])"
   ]
  },
  {
   "cell_type": "code",
   "execution_count": 24,
   "metadata": {},
   "outputs": [],
   "source": [
    "#get the weights from each layer\n",
    "en_gru_w = en_gru.get_weights()\n",
    "de_gru_w = de_gru.get_weights()\n",
    "de_dense_w = de_dense.get_weights()"
   ]
  },
  {
   "cell_type": "markdown",
   "metadata": {},
   "source": [
    "### 4. Build encoder and decoder, set weights of each layer from the weights in teacher-forcing model."
   ]
  },
  {
   "cell_type": "code",
   "execution_count": 26,
   "metadata": {},
   "outputs": [],
   "source": [
    "hsize = en_vocab\n",
    "#encoder\n",
    "en_input = Input(shape=(max_en_len, en_vocab))\n",
    "en_gru = GRU(en_vocab, return_state=True)\n",
    "en_out, en_state = en_gru(en_input)\n",
    "encoder = Model(inputs=en_input, outputs=en_state)"
   ]
  },
  {
   "cell_type": "code",
   "execution_count": 29,
   "metadata": {},
   "outputs": [
    {
     "name": "stdout",
     "output_type": "stream",
     "text": [
      "Model: \"model_1\"\n",
      "_________________________________________________________________\n",
      "Layer (type)                 Output Shape              Param #   \n",
      "=================================================================\n",
      "input_3 (InputLayer)         [(None, 15, 201)]         0         \n",
      "_________________________________________________________________\n",
      "gru_2 (GRU)                  [(None, 201), (None, 201) 243009    \n",
      "=================================================================\n",
      "Total params: 243,009\n",
      "Trainable params: 243,009\n",
      "Non-trainable params: 0\n",
      "_________________________________________________________________\n"
     ]
    }
   ],
   "source": [
    "encoder.summary()"
   ]
  },
  {
   "cell_type": "code",
   "execution_count": 27,
   "metadata": {},
   "outputs": [
    {
     "data": {
      "image/png": "[encoded data removed]",
      "text/plain": [
       "<IPython.core.display.Image object>"
      ]
     },
     "execution_count": 27,
     "metadata": {},
     "output_type": "execute_result"
    }
   ],
   "source": [
    "#decoder\n",
    "de_input = Input(shape=(1, fr_se_vocab))\n",
    "de_state_in = Input(shape=(hsize,)) #---> = result from encoder.predict\n",
    "\n",
    "#decoder's interim layers\n",
    "de_gru = GRU(hsize, return_state=True)\n",
    "de_out, de_state_out = de_gru(de_input, initial_state=de_state_in)\n",
    "de_dense = Dense(fr_se_vocab, activation='softmax')\n",
    "de_pred = de_dense(de_out)\n",
    "decoder = Model(inputs=[de_input, de_state_in], outputs=[de_pred, de_state_out])\n",
    "\n",
    "#plot encoder\n",
    "plot_model(decoder, to_file='layout.png')"
   ]
  },
  {
   "cell_type": "code",
   "execution_count": 28,
   "metadata": {},
   "outputs": [
    {
     "name": "stdout",
     "output_type": "stream",
     "text": [
      "Model: \"model_2\"\n",
      "__________________________________________________________________________________________________\n",
      "Layer (type)                    Output Shape         Param #     Connected to                     \n",
      "==================================================================================================\n",
      "input_4 (InputLayer)            [(None, 1, 345)]     0                                            \n",
      "__________________________________________________________________________________________________\n",
      "input_5 (InputLayer)            [(None, 201)]        0                                            \n",
      "__________________________________________________________________________________________________\n",
      "gru_3 (GRU)                     [(None, 201), (None, 329841      input_4[0][0]                    \n",
      "                                                                 input_5[0][0]                    \n",
      "__________________________________________________________________________________________________\n",
      "dense_1 (Dense)                 (None, 345)          69690       gru_3[0][0]                      \n",
      "==================================================================================================\n",
      "Total params: 399,531\n",
      "Trainable params: 399,531\n",
      "Non-trainable params: 0\n",
      "__________________________________________________________________________________________________\n"
     ]
    }
   ],
   "source": [
    "decoder.summary()"
   ]
  },
  {
   "cell_type": "code",
   "execution_count": 30,
   "metadata": {},
   "outputs": [],
   "source": [
    "en_gru.set_weights(en_gru_w)\n",
    "de_gru.set_weights(de_gru_w)\n",
    "de_dense.set_weights(de_dense_w)"
   ]
  },
  {
   "cell_type": "markdown",
   "metadata": {},
   "source": [
    "### 5. Test some sentences"
   ]
  },
  {
   "cell_type": "code",
   "execution_count": 44,
   "metadata": {},
   "outputs": [],
   "source": [
    "#function to translate english to french\n",
    "def translate_to_french(english_sentence):\n",
    "    #convert english sentence to one hot\n",
    "    en_sent_oh = sent2oh(english_sentence, language='en', reverse=True)\n",
    "    #convert word 'sos' to oh\n",
    "    de_w_seq = word2oh('sos',language='fr',se=True)\n",
    "    de_w_seq = de_w_seq.reshape(1,1,fr_se_vocab)\n",
    "    #get the en_state from result in encoder\n",
    "    de_state = encoder.predict(en_sent_oh)\n",
    "    \n",
    "    fr_sent = ''\n",
    "    for _ in range(max_fr_se_len):\n",
    "        de_pred, de_state = decoder.predict([de_w_seq, de_state])\n",
    "        de_word = oh2word(de_pred, language='fr', se=True)\n",
    "        de_w_seq = word2oh(de_word, language='fr', se=True).reshape(1,1,fr_se_vocab)\n",
    "        if de_word == 'eos': break\n",
    "        fr_sent += de_word + ' '\n",
    "    return fr_sent    "
   ]
  },
  {
   "cell_type": "code",
   "execution_count": 46,
   "metadata": {},
   "outputs": [
    {
     "name": "stdout",
     "output_type": "stream",
     "text": [
      "Predict French sentence:  nous aimons les raisins citrons verts et les poires \n",
      "True French sentence:  nous aimons les raisins , citrons verts , et les poires .\n",
      "==================\n",
      "Predict French sentence:  mon fruit est moins aimé la chaux mais notre moins aimé est l'orange \n",
      "True French sentence:  mon fruit est moins aimé la chaux , mais notre moins aimé est l'orange .\n",
      "==================\n",
      "Predict French sentence:  ils aiment les oranges les citrons et les pamplemousses \n",
      "True French sentence:  ils aiment les oranges , les citrons et les pamplemousses .\n",
      "==================\n",
      "Predict French sentence:  l'orange est son fruit préféré mais la poire est notre préféré \n",
      "True French sentence:  l'orange est son fruit préféré , mais la poire est notre préféré .\n",
      "==================\n",
      "Predict French sentence:  les états unis est jamais de neige en mars et il pleut en janvier \n",
      "True French sentence:  les états-unis est jamais de neige en mars , et il pleut en janvier .\n",
      "==================\n",
      "Predict French sentence:  les états unis est parfois sec au mois de mai mais il est relaxant parfois en avril \n",
      "True French sentence:  les états-unis est parfois sec au mois de mai , mais il est relaxant parfois en avril .\n",
      "==================\n",
      "Predict French sentence:  ils n'aiment le pamplemousse les bananes et les citrons verts \n",
      "True French sentence:  ils n'aiment le pamplemousse , les bananes et les citrons verts .\n",
      "==================\n",
      "Predict French sentence:  son fruit préféré est moins la chaux mais leur moins préféré est la poire \n",
      "True French sentence:  son fruit préféré est moins la chaux , mais leur moins préféré est la poire .\n",
      "==================\n",
      "Predict French sentence:  la mangue est notre fruit préféré moins mais le citron est son moins préféré \n",
      "True French sentence:  la mangue est notre fruit préféré moins , mais le citron est son moins préféré .\n",
      "==================\n",
      "Predict French sentence:  france est doux en juin mais il gèle habituellement au printemps \n",
      "True French sentence:  france est doux en juin , mais il gèle habituellement au printemps .\n",
      "==================\n"
     ]
    }
   ],
   "source": [
    "#test on 10 sentences\n",
    "for i in test_df.index[:10]:\n",
    "    pred_fr_sent = translate_to_french(test_df['english_sentence'][i])\n",
    "    fr_sent = test_df['french_sentence'][i]\n",
    "    print('Predict French sentence: ' , pred_fr_sent)\n",
    "    print('True French sentence: ', fr_sent)\n",
    "    print('==================')"
   ]
  }
 ],
 "metadata": {
  "kernelspec": {
   "display_name": "deeplearning",
   "language": "python",
   "name": "deeplearning"
  },
  "language_info": {
   "codemirror_mode": {
    "name": "ipython",
    "version": 3
   },
   "file_extension": ".py",
   "mimetype": "text/x-python",
   "name": "python",
   "nbconvert_exporter": "python",
   "pygments_lexer": "ipython3",
   "version": "3.6.10"
  }
 },
 "nbformat": 4,
 "nbformat_minor": 4
}
