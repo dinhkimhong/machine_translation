{
 "cells": [
  {
   "cell_type": "markdown",
   "metadata": {},
   "source": [
    "### MACHINE TRANSLATION MODEL"
   ]
  },
  {
   "cell_type": "markdown",
   "metadata": {},
   "source": [
    "In this project, I'm applying what I learnt from DataCamp on Machine Translation from English to French.<br>\n",
    "Thank you to DataCamp, especially to Thushan Ganegedara, Mona Khalil, Ruanne Van Der Walt for this session."
   ]
  },
  {
   "cell_type": "markdown",
   "metadata": {},
   "source": [
    "Here is the work pipeline:\n",
    "1. Read data from txt files and split into train and test dataframe\n",
    "2. Tokenize sentences and transform to one hot encode sequence data\n",
    "3. Build model\n",
    "4. Predict on test data/ Translate English sentences in test data\n",
    "5. Evaluate the model using BLEU score (future work)"
   ]
  },
  {
   "cell_type": "code",
   "execution_count": 1,
   "metadata": {},
   "outputs": [],
   "source": [
    "#import packages\n",
    "import pandas as pd\n",
    "import numpy as np\n",
    "import matplotlib.pyplot as plt\n",
    "import warnings\n",
    "warnings.filterwarnings('ignore')\n",
    "\n",
    "plt.rcParams['figure.figsize'] = (10.0, 5.0)\n",
    "%matplotlib inline"
   ]
  },
  {
   "cell_type": "markdown",
   "metadata": {},
   "source": [
    "### 1. Read data from txt file"
   ]
  },
  {
   "cell_type": "code",
   "execution_count": 2,
   "metadata": {},
   "outputs": [
    {
     "data": {
      "text/html": [
       "<div>\n",
       "<style scoped>\n",
       "    .dataframe tbody tr th:only-of-type {\n",
       "        vertical-align: middle;\n",
       "    }\n",
       "\n",
       "    .dataframe tbody tr th {\n",
       "        vertical-align: top;\n",
       "    }\n",
       "\n",
       "    .dataframe thead th {\n",
       "        text-align: right;\n",
       "    }\n",
       "</style>\n",
       "<table border=\"1\" class=\"dataframe\">\n",
       "  <thead>\n",
       "    <tr style=\"text-align: right;\">\n",
       "      <th></th>\n",
       "      <th>english_sentence</th>\n",
       "      <th>french_sentence</th>\n",
       "    </tr>\n",
       "  </thead>\n",
       "  <tbody>\n",
       "    <tr>\n",
       "      <th>0</th>\n",
       "      <td>new jersey is sometimes quiet during autumn , ...</td>\n",
       "      <td>new jersey est parfois calme pendant l' automn...</td>\n",
       "    </tr>\n",
       "    <tr>\n",
       "      <th>1</th>\n",
       "      <td>the united states is usually chilly during jul...</td>\n",
       "      <td>les états-unis est généralement froid en juill...</td>\n",
       "    </tr>\n",
       "    <tr>\n",
       "      <th>2</th>\n",
       "      <td>california is usually quiet during march , and...</td>\n",
       "      <td>california est généralement calme en mars , et...</td>\n",
       "    </tr>\n",
       "    <tr>\n",
       "      <th>3</th>\n",
       "      <td>the united states is sometimes mild during jun...</td>\n",
       "      <td>les états-unis est parfois légère en juin , et...</td>\n",
       "    </tr>\n",
       "    <tr>\n",
       "      <th>4</th>\n",
       "      <td>your least liked fruit is the grape , but my l...</td>\n",
       "      <td>votre moins aimé fruit est le raisin , mais mo...</td>\n",
       "    </tr>\n",
       "  </tbody>\n",
       "</table>\n",
       "</div>"
      ],
      "text/plain": [
       "                                    english_sentence  \\\n",
       "0  new jersey is sometimes quiet during autumn , ...   \n",
       "1  the united states is usually chilly during jul...   \n",
       "2  california is usually quiet during march , and...   \n",
       "3  the united states is sometimes mild during jun...   \n",
       "4  your least liked fruit is the grape , but my l...   \n",
       "\n",
       "                                     french_sentence  \n",
       "0  new jersey est parfois calme pendant l' automn...  \n",
       "1  les états-unis est généralement froid en juill...  \n",
       "2  california est généralement calme en mars , et...  \n",
       "3  les états-unis est parfois légère en juin , et...  \n",
       "4  votre moins aimé fruit est le raisin , mais mo...  "
      ]
     },
     "execution_count": 2,
     "metadata": {},
     "output_type": "execute_result"
    }
   ],
   "source": [
    "en_sents = list()\n",
    "with open('vocab_en.txt', encoding='utf-8') as txt_file:\n",
    "    for line in txt_file:\n",
    "        new_line = line.rstrip('\\n')\n",
    "        en_sents.append(new_line)\n",
    "\n",
    "fr_sents = list()\n",
    "with open('vocab_fr.txt', encoding='utf-8') as txt_file:\n",
    "    for line in txt_file.readlines():\n",
    "        new_line = line.rstrip('\\n')\n",
    "        fr_sents.append(new_line)\n",
    "        \n",
    "df = pd.DataFrame({'english_sentence':en_sents, 'french_sentence': fr_sents})\n",
    "df.head()"
   ]
  },
  {
   "cell_type": "code",
   "execution_count": 3,
   "metadata": {},
   "outputs": [
    {
     "name": "stdout",
     "output_type": "stream",
     "text": [
      "<class 'pandas.core.frame.DataFrame'>\n",
      "RangeIndex: 137860 entries, 0 to 137859\n",
      "Data columns (total 2 columns):\n",
      " #   Column            Non-Null Count   Dtype \n",
      "---  ------            --------------   ----- \n",
      " 0   english_sentence  137860 non-null  object\n",
      " 1   french_sentence   137860 non-null  object\n",
      "dtypes: object(2)\n",
      "memory usage: 2.1+ MB\n"
     ]
    }
   ],
   "source": [
    "df.info()"
   ]
  },
  {
   "cell_type": "code",
   "execution_count": 4,
   "metadata": {},
   "outputs": [
    {
     "data": {
      "text/plain": [
       "array([ 35467,  43795, 115519, ..., 131125, 113297,  45122], dtype=int64)"
      ]
     },
     "execution_count": 4,
     "metadata": {},
     "output_type": "execute_result"
    }
   ],
   "source": [
    "#shuffle indicies to shuffle the rows\n",
    "indicies = np.array(df.index)\n",
    "np.random.shuffle(indicies)\n",
    "indicies"
   ]
  },
  {
   "cell_type": "markdown",
   "metadata": {},
   "source": [
    "#### Split data into train and test dataframe after shuffling row"
   ]
  },
  {
   "cell_type": "code",
   "execution_count": 5,
   "metadata": {},
   "outputs": [],
   "source": [
    "train_size, test_size = int((137860/10) * 8), int((137860/10) * 2)\n",
    "\n",
    "train_indicies, test_indicies = indicies[:train_size], indicies[train_size:]\n",
    "\n",
    "train_df = df.iloc[train_indicies, :]\n",
    "test_df = df.iloc[test_indicies, :]"
   ]
  },
  {
   "cell_type": "code",
   "execution_count": 7,
   "metadata": {},
   "outputs": [],
   "source": [
    "import tensorflow as tf\n",
    "from tensorflow.python.keras.preprocessing.text import Tokenizer\n",
    "from tensorflow.python.keras.models import Model\n",
    "from tensorflow.python.keras.layers import Conv1D, Dense, Flatten, Input, MaxPooling1D, GRU, RepeatVector, \\\n",
    "                        Dropout, BatchNormalization, TimeDistributed, LSTM, Dropout\n",
    "from tensorflow.python.keras.layers.merge import concatenate\n",
    "from tensorflow.python.keras.callbacks import EarlyStopping\n",
    "from tensorflow.python.keras.utils.np_utils import to_categorical\n",
    "from tensorflow.python.keras.utils.vis_utils import plot_model\n",
    "from tensorflow.python.keras.preprocessing.sequence import pad_sequences"
   ]
  },
  {
   "cell_type": "markdown",
   "metadata": {},
   "source": [
    "### 2. Tokenize sentences then transform to one hot encode sequence data"
   ]
  },
  {
   "cell_type": "code",
   "execution_count": 8,
   "metadata": {},
   "outputs": [],
   "source": [
    "en_token = Tokenizer(oov_token='unknown')\n",
    "en_token.fit_on_texts(train_df['english_sentence'])\n",
    "\n",
    "fr_token = Tokenizer(oov_token='unknown')\n",
    "fr_token.fit_on_texts(train_df['french_sentence'])"
   ]
  },
  {
   "cell_type": "code",
   "execution_count": 9,
   "metadata": {},
   "outputs": [],
   "source": [
    "en_index_to_word = en_token.index_word\n",
    "fr_index_to_word = fr_token.index_word\n",
    "\n",
    "en_word_to_index = en_token.word_index\n",
    "fr_word_to_index = fr_token.word_index"
   ]
  },
  {
   "cell_type": "code",
   "execution_count": 10,
   "metadata": {},
   "outputs": [
    {
     "name": "stdout",
     "output_type": "stream",
     "text": [
      "15 21\n"
     ]
    }
   ],
   "source": [
    "max_en_len = max([len(i) for i in en_token.texts_to_sequences(train_df['english_sentence'])])\n",
    "max_fr_len = max([len(i) for i in fr_token.texts_to_sequences(train_df['french_sentence'])])\n",
    "print(max_en_len, max_fr_len)"
   ]
  },
  {
   "cell_type": "code",
   "execution_count": 11,
   "metadata": {},
   "outputs": [
    {
     "name": "stdout",
     "output_type": "stream",
     "text": [
      "201 345\n"
     ]
    }
   ],
   "source": [
    "en_vocab = len(en_token.index_word) + 1\n",
    "fr_vocab = len(fr_token.index_word) + 1\n",
    "print(en_vocab, fr_vocab)"
   ]
  },
  {
   "cell_type": "code",
   "execution_count": 12,
   "metadata": {},
   "outputs": [
    {
     "name": "stdout",
     "output_type": "stream",
     "text": [
      "(201, 201) (345, 345)\n"
     ]
    }
   ],
   "source": [
    "en_oh = to_categorical(np.arange(0,en_vocab))\n",
    "fr_oh = to_categorical(np.arange(0, fr_vocab))\n",
    "print(en_oh.shape, fr_oh.shape)"
   ]
  },
  {
   "cell_type": "code",
   "execution_count": 13,
   "metadata": {},
   "outputs": [],
   "source": [
    "#function word to oh\n",
    "def word2oh(word, language='en'):\n",
    "    oh = ''\n",
    "    if language == 'en':\n",
    "        index = en_word_to_index[word]\n",
    "        oh = en_oh[index]\n",
    "    elif language =='fr':\n",
    "        index = fr_word_to_index[word]\n",
    "        oh = fr_oh[index]      \n",
    "    return oh"
   ]
  },
  {
   "cell_type": "code",
   "execution_count": 14,
   "metadata": {},
   "outputs": [],
   "source": [
    "#function sentence to one hot, there is reverse argument to reverse one hot encode of english for better model performance\n",
    "def sent2oh(sentence, language='en', reverse=False):\n",
    "    oh = list()\n",
    "    if language=='en':\n",
    "        sequence = en_token.texts_to_sequences([sentence])\n",
    "        sequence = pad_sequences(sequence, padding='post', maxlen=max_en_len) #add padding\n",
    "        if reverse == True:\n",
    "            sequence = sequence[:, ::-1]\n",
    "        for seq in sequence:\n",
    "            oh.append(en_oh[seq])\n",
    "    elif language == 'fr':\n",
    "        sequence = fr_token.texts_to_sequences([sentence])\n",
    "        sequence = pad_sequences(sequence, padding='post', maxlen=max_fr_len)\n",
    "        if reverse == True:\n",
    "            sequence = sequence[:, ::-1]\n",
    "        for seq in sequence:\n",
    "            oh.append(fr_oh[seq])     \n",
    "    return np.array(oh)"
   ]
  },
  {
   "cell_type": "code",
   "execution_count": 15,
   "metadata": {},
   "outputs": [
    {
     "name": "stdout",
     "output_type": "stream",
     "text": [
      "(110288, 15, 201) (110288, 21, 345)\n"
     ]
    }
   ],
   "source": [
    "train_en_oh_rev = np.vstack([(sent2oh(sent, reverse=True)) for sent in train_df['english_sentence']])\n",
    "train_fr_oh = np.vstack([(sent2oh(sent, language='fr')) for sent in train_df['french_sentence']])\n",
    "\n",
    "print(train_en_oh_rev.shape, train_fr_oh.shape)"
   ]
  },
  {
   "cell_type": "code",
   "execution_count": 16,
   "metadata": {},
   "outputs": [
    {
     "name": "stdout",
     "output_type": "stream",
     "text": [
      "(27572, 15, 201) (27572, 21, 345)\n"
     ]
    }
   ],
   "source": [
    "test_en_oh_rev = np.vstack([(sent2oh(sent, reverse=True)) for sent in test_df['english_sentence']])\n",
    "test_fr_oh = np.vstack([(sent2oh(sent, language='fr')) for sent in test_df['french_sentence']])\n",
    "\n",
    "print(test_en_oh_rev.shape, test_fr_oh.shape)"
   ]
  },
  {
   "cell_type": "markdown",
   "metadata": {},
   "source": [
    "### 3. Build model"
   ]
  },
  {
   "cell_type": "code",
   "execution_count": 17,
   "metadata": {},
   "outputs": [
    {
     "name": "stdout",
     "output_type": "stream",
     "text": [
      "WARNING:tensorflow:From C:\\Users\\kimho\\anaconda3\\envs\\deeplearning\\lib\\site-packages\\tensorflow_core\\python\\ops\\resource_variable_ops.py:1635: calling BaseResourceVariable.__init__ (from tensorflow.python.ops.resource_variable_ops) with constraint is deprecated and will be removed in a future version.\n",
      "Instructions for updating:\n",
      "If using Keras pass *_constraint arguments to layers.\n",
      "Model: \"model\"\n",
      "__________________________________________________________________________________________________\n",
      "Layer (type)                    Output Shape         Param #     Connected to                     \n",
      "==================================================================================================\n",
      "input_1 (InputLayer)            [(None, 15, 201)]    0                                            \n",
      "__________________________________________________________________________________________________\n",
      "gru (GRU)                       [(None, 201), (None, 243009      input_1[0][0]                    \n",
      "__________________________________________________________________________________________________\n",
      "repeat_vector (RepeatVector)    (None, 21, 201)      0           gru[0][1]                        \n",
      "__________________________________________________________________________________________________\n",
      "gru_1 (GRU)                     (None, 21, 201)      243009      repeat_vector[0][0]              \n",
      "                                                                 gru[0][1]                        \n",
      "__________________________________________________________________________________________________\n",
      "time_distributed (TimeDistribut (None, 21, 345)      69690       gru_1[0][0]                      \n",
      "==================================================================================================\n",
      "Total params: 555,708\n",
      "Trainable params: 555,708\n",
      "Non-trainable params: 0\n",
      "__________________________________________________________________________________________________\n"
     ]
    },
    {
     "data": {
      "image/png": "[encoded data removed]",
      "text/plain": [
       "<IPython.core.display.Image object>"
      ]
     },
     "execution_count": 17,
     "metadata": {},
     "output_type": "execute_result"
    }
   ],
   "source": [
    "hsize = en_vocab\n",
    "\n",
    "#encoder\n",
    "en_input = Input(shape=(max_en_len, en_vocab))\n",
    "en_gru = GRU(hsize, return_state=True)\n",
    "en_out, en_state = en_gru(en_input)\n",
    "\n",
    "#decoder\n",
    "de_input = RepeatVector(max_fr_len)(en_state)\n",
    "de_gru = GRU(hsize, return_sequences=True)\n",
    "de_out = de_gru(de_input, initial_state=en_state)\n",
    "\n",
    "#prediction layer\n",
    "de_dense_time = TimeDistributed(Dense(fr_vocab, activation='softmax'))\n",
    "de_pred = de_dense_time(de_out)\n",
    "\n",
    "#compiling the model\n",
    "nmt = Model(inputs=en_input, outputs=de_pred)\n",
    "\n",
    "#summarize model\n",
    "nmt.summary()\n",
    "\n",
    "#plot graph\n",
    "plot_model(nmt, to_file='layout.png')"
   ]
  },
  {
   "cell_type": "code",
   "execution_count": 18,
   "metadata": {},
   "outputs": [
    {
     "name": "stdout",
     "output_type": "stream",
     "text": [
      "Train on 88230 samples, validate on 22058 samples\n",
      "Epoch 1/10\n",
      "88230/88230 [==============================] - 154s 2ms/sample - loss: 1.7918 - acc: 0.5807 - val_loss: 1.1926 - val_acc: 0.6779\n",
      "Epoch 2/10\n",
      "88230/88230 [==============================] - 160s 2ms/sample - loss: 0.9967 - acc: 0.7160 - val_loss: 0.8636 - val_acc: 0.7467\n",
      "Epoch 3/10\n",
      "88230/88230 [==============================] - 163s 2ms/sample - loss: 0.7862 - acc: 0.7662 - val_loss: 0.6958 - val_acc: 0.7913\n",
      "Epoch 4/10\n",
      "88230/88230 [==============================] - 153s 2ms/sample - loss: 0.6440 - acc: 0.8060 - val_loss: 0.5775 - val_acc: 0.8243\n",
      "Epoch 5/10\n",
      "88230/88230 [==============================] - 160s 2ms/sample - loss: 0.5253 - acc: 0.8401 - val_loss: 0.4744 - val_acc: 0.8571\n",
      "Epoch 6/10\n",
      "88230/88230 [==============================] - 153s 2ms/sample - loss: 0.4336 - acc: 0.8694 - val_loss: 0.4213 - val_acc: 0.8756\n",
      "Epoch 7/10\n",
      "88230/88230 [==============================] - 156s 2ms/sample - loss: 0.3552 - acc: 0.8954 - val_loss: 0.3396 - val_acc: 0.9026\n",
      "Epoch 8/10\n",
      "88230/88230 [==============================] - 159s 2ms/sample - loss: 0.2930 - acc: 0.9146 - val_loss: 0.2600 - val_acc: 0.9254\n",
      "Epoch 9/10\n",
      "88230/88230 [==============================] - 157s 2ms/sample - loss: 0.2407 - acc: 0.9304 - val_loss: 0.2407 - val_acc: 0.9296\n",
      "Epoch 10/10\n",
      "88230/88230 [==============================] - 155s 2ms/sample - loss: 0.2044 - acc: 0.9409 - val_loss: 0.2075 - val_acc: 0.9406\n"
     ]
    },
    {
     "data": {
      "text/plain": [
       "<tensorflow.python.keras.callbacks.History at 0x28125b874e0>"
      ]
     },
     "execution_count": 18,
     "metadata": {},
     "output_type": "execute_result"
    }
   ],
   "source": [
    "nmt.compile(optimizer='adam', loss='categorical_crossentropy', metrics=['acc'])\n",
    "early_stopping = EarlyStopping(monitor='val_acc', patience=5)\n",
    "nmt.fit(train_en_oh_rev, train_fr_oh, batch_size=128, epochs=10, validation_split=0.2, callbacks=[early_stopping])"
   ]
  },
  {
   "cell_type": "markdown",
   "metadata": {},
   "source": [
    "### 4. Predict on test data or translate English sentences in test data into French"
   ]
  },
  {
   "cell_type": "code",
   "execution_count": 19,
   "metadata": {},
   "outputs": [
    {
     "data": {
      "text/plain": [
       "(27572, 21, 345)"
      ]
     },
     "execution_count": 19,
     "metadata": {},
     "output_type": "execute_result"
    }
   ],
   "source": [
    "pred_fr_oh = nmt.predict(test_en_oh_rev)\n",
    "pred_fr_oh.shape"
   ]
  },
  {
   "cell_type": "code",
   "execution_count": 20,
   "metadata": {},
   "outputs": [],
   "source": [
    "#function to transform one hots to french sentences\n",
    "def oh2fr(ohs):\n",
    "    sequences = np.argmax(ohs, axis=-1)\n",
    "    sentences = list()\n",
    "    for seq in sequences:\n",
    "        sent = [fr_index_to_word[i] for i in seq if i != 0]\n",
    "        sent = ' '.join(sent)\n",
    "        sentences.append(sent)\n",
    "    return sentences"
   ]
  },
  {
   "cell_type": "code",
   "execution_count": 21,
   "metadata": {},
   "outputs": [],
   "source": [
    "pred_fr = oh2fr(pred_fr_oh)"
   ]
  },
  {
   "cell_type": "markdown",
   "metadata": {},
   "source": [
    "#### Compare 10 predictions with Frech sentences"
   ]
  },
  {
   "cell_type": "code",
   "execution_count": 22,
   "metadata": {},
   "outputs": [
    {
     "name": "stdout",
     "output_type": "stream",
     "text": [
      "Predict:  la france est parfois froid en l' de l' automne est parfois est en mai\n",
      "True:  la france est parfois froid en automne , mais il est parfois agréable en mai .\n",
      "==========\n",
      "Predict:  les états unis est généralement chaud au mois de mars mais il est merveilleux en juillet\n",
      "True:  les états-unis est généralement chaud au mois de mars , mais il est merveilleux en juin .\n",
      "==========\n",
      "Predict:  elle n'aime les oranges les raisins et les pommes\n",
      "True:  elle n'aime les oranges , les raisins et les pommes .\n",
      "==========\n",
      "Predict:  la france est parfois occupée en novembre mais il est agréable en mai\n",
      "True:  la france est parfois occupée en novembre , mais il est agréable en mai .\n",
      "==========\n",
      "Predict:  l' inde est généralement froid en juin et il gèle en hiver\n",
      "True:  l' inde est généralement froid en juin , et il gèle en mai .\n",
      "==========\n",
      "Predict:  leur fruit préféré est la banane mais votre favori est la pomme\n",
      "True:  leur fruit préféré est la banane , mais votre favori est la pomme .\n",
      "==========\n",
      "Predict:  les états unis est beau en juin mais il est généralement agréable en août\n",
      "True:  les états-unis est beau en juin , mais il est généralement agréable en août .\n",
      "==========\n",
      "Predict:  chine est jamais le gel en avril et il est généralement froid en hiver\n",
      "True:  chine est jamais le gel en avril , et il est généralement froid en mai .\n",
      "==========\n",
      "Predict:  new jersey est doux en juillet et il est jamais chaud en hiver\n",
      "True:  new jersey est doux en juillet , et il est jamais chaud en hiver .\n",
      "==========\n",
      "Predict:  la chaux est leur fruit le plus cher mais le raisin est notre plus aimé\n",
      "True:  la chaux est leur fruit le plus cher , mais le citron est notre plus aimé .\n",
      "==========\n"
     ]
    }
   ],
   "source": [
    "for i in range(10):\n",
    "    print('Predict: ', pred_fr[i])\n",
    "    print('True: ', test_df['french_sentence'].iloc[i])\n",
    "    print('==========')\n"
   ]
  },
  {
   "cell_type": "markdown",
   "metadata": {},
   "source": [
    "### 5. Evaluate model using BLEU score (future work)"
   ]
  },
  {
   "cell_type": "code",
   "execution_count": null,
   "metadata": {},
   "outputs": [],
   "source": []
  },
  {
   "cell_type": "code",
   "execution_count": null,
   "metadata": {},
   "outputs": [],
   "source": []
  },
  {
   "cell_type": "code",
   "execution_count": null,
   "metadata": {},
   "outputs": [],
   "source": []
  }
 ],
 "metadata": {
  "kernelspec": {
   "display_name": "deeplearning",
   "language": "python",
   "name": "deeplearning"
  },
  "language_info": {
   "codemirror_mode": {
    "name": "ipython",
    "version": 3
   },
   "file_extension": ".py",
   "mimetype": "text/x-python",
   "name": "python",
   "nbconvert_exporter": "python",
   "pygments_lexer": "ipython3",
   "version": "3.6.10"
  }
 },
 "nbformat": 4,
 "nbformat_minor": 4
}
